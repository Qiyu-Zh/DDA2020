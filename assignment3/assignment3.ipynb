{
 "cells": [
  {
   "cell_type": "code",
   "execution_count": null,
   "metadata": {},
   "outputs": [
    {
     "ename": "",
     "evalue": "",
     "output_type": "error",
     "traceback": [
      "\u001b[1;31mPython 3.8.5 ('pytorch') 需要安装 ipykernel。\n",
      "Run the following command to install 'ipykernel' into the Python environment. \n",
      "Command: 'conda install -n pytorch ipykernel --update-deps --force-reinstall'"
     ]
    }
   ],
   "source": [
    "import re\n",
    "import numpy as np\n",
    "from sklearn.tree import DecisionTreeRegressor\n",
    "import matplotlib.pyplot as plt\n",
    "from sklearn.ensemble import RandomForestRegressor\n",
    "from sklearn.metrics import mean_squared_error\n",
    "import pandas as pd\n",
    "import seaborn as sns\n",
    "from sklearn.model_selection import GridSearchCV, train_test_split\n",
    "from sklearn.ensemble import RandomForestClassifier\n",
    "from sklearn.tree import plot_tree\n"
   ]
  },
  {
   "cell_type": "code",
   "execution_count": null,
   "metadata": {},
   "outputs": [
    {
     "ename": "",
     "evalue": "",
     "output_type": "error",
     "traceback": [
      "\u001b[1;31mPython 3.8.5 ('pytorch') 需要安装 ipykernel。\n",
      "Run the following command to install 'ipykernel' into the Python environment. \n",
      "Command: 'conda install -n pytorch ipykernel --update-deps --force-reinstall'"
     ]
    }
   ],
   "source": [
    "data=pd.read_csv('Carseats.csv')\n",
    "data.describe()"
   ]
  },
  {
   "cell_type": "code",
   "execution_count": null,
   "metadata": {},
   "outputs": [
    {
     "ename": "",
     "evalue": "",
     "output_type": "error",
     "traceback": [
      "\u001b[1;31mPython 3.8.5 ('pytorch') 需要安装 ipykernel。\n",
      "Run the following command to install 'ipykernel' into the Python environment. \n",
      "Command: 'conda install -n pytorch ipykernel --update-deps --force-reinstall'"
     ]
    }
   ],
   "source": [
    "\n",
    "data['US']=data['US'].map(lambda x: 1 if x=='Yes' else 0)\n",
    "dict={'Bad':0,'Medium':1,'Good':2}\n",
    "\n",
    "data['Urban']=data['Urban'].map(lambda x: 1 if x=='Yes' else 0)\n",
    "data['ShelveLoc']=data['ShelveLoc'].map(lambda x: dict[x])\n",
    "data"
   ]
  },
  {
   "cell_type": "code",
   "execution_count": null,
   "metadata": {},
   "outputs": [
    {
     "ename": "",
     "evalue": "",
     "output_type": "error",
     "traceback": [
      "\u001b[1;31mPython 3.8.5 ('pytorch') 需要安装 ipykernel。\n",
      "Run the following command to install 'ipykernel' into the Python environment. \n",
      "Command: 'conda install -n pytorch ipykernel --update-deps --force-reinstall'"
     ]
    }
   ],
   "source": [
    "continue_type=['Sales', 'CompPrice', 'Income', 'Advertising', 'Population', 'Price', 'Age', 'Education']\n",
    "fig,axes=plt.subplots(2,4, figsize=(12,5))\n",
    "fig.subplots_adjust(wspace=0.3,hspace=0.4)\n",
    "for i,v in enumerate(continue_type):\n",
    "    sns.histplot(data[v],ax=axes[i//4][i%4])  \n"
   ]
  },
  {
   "cell_type": "code",
   "execution_count": null,
   "metadata": {},
   "outputs": [
    {
     "ename": "",
     "evalue": "",
     "output_type": "error",
     "traceback": [
      "\u001b[1;31mPython 3.8.5 ('pytorch') 需要安装 ipykernel。\n",
      "Run the following command to install 'ipykernel' into the Python environment. \n",
      "Command: 'conda install -n pytorch ipykernel --update-deps --force-reinstall'"
     ]
    }
   ],
   "source": [
    "\n",
    "fig,axes=plt.subplots(1,3, figsize=(12,5))\n",
    "fig.subplots_adjust(wspace=0.3,hspace=0.4)\n",
    "sns.countplot(data['US'],ax=axes[0])  #左图，默认为平均值\n",
    "axes[0].set_xlabel('US',fontsize=15)\n",
    "axes[0].set_ylabel('count',fontsize=15)\n",
    "sns.countplot(data['Urban'],ax=axes[1])\n",
    "axes[1].set_xlabel('Urban',fontsize=15)\n",
    "axes[1].set_ylabel('count',fontsize=15)\n",
    "sns.countplot(data['ShelveLoc'],ax=axes[2])\n",
    "axes[2].set_xlabel('ShelveLoc',fontsize=15)\n",
    "axes[2].set_ylabel('count',fontsize=15)\n",
    "\n"
   ]
  },
  {
   "cell_type": "code",
   "execution_count": null,
   "metadata": {},
   "outputs": [
    {
     "ename": "",
     "evalue": "",
     "output_type": "error",
     "traceback": [
      "\u001b[1;31mPython 3.8.5 ('pytorch') 需要安装 ipykernel。\n",
      "Run the following command to install 'ipykernel' into the Python environment. \n",
      "Command: 'conda install -n pytorch ipykernel --update-deps --force-reinstall'"
     ]
    }
   ],
   "source": []
  },
  {
   "cell_type": "code",
   "execution_count": null,
   "metadata": {},
   "outputs": [
    {
     "ename": "",
     "evalue": "",
     "output_type": "error",
     "traceback": [
      "\u001b[1;31mPython 3.8.5 ('pytorch') 需要安装 ipykernel。\n",
      "Run the following command to install 'ipykernel' into the Python environment. \n",
      "Command: 'conda install -n pytorch ipykernel --update-deps --force-reinstall'"
     ]
    }
   ],
   "source": [
    "y=data['Sales']\n",
    "data.drop('Sales',inplace=True,axis=1)\n",
    "X=data\n"
   ]
  },
  {
   "cell_type": "code",
   "execution_count": null,
   "metadata": {},
   "outputs": [
    {
     "ename": "",
     "evalue": "",
     "output_type": "error",
     "traceback": [
      "\u001b[1;31mPython 3.8.5 ('pytorch') 需要安装 ipykernel。\n",
      "Run the following command to install 'ipykernel' into the Python environment. \n",
      "Command: 'conda install -n pytorch ipykernel --update-deps --force-reinstall'"
     ]
    }
   ],
   "source": [
    "X1_train=X[0:300]\n",
    "X1_test=X[300:400]\n",
    "y1_train=y[0:300]\n",
    "y1_test=y[300:400]\n"
   ]
  },
  {
   "cell_type": "code",
   "execution_count": null,
   "metadata": {},
   "outputs": [
    {
     "ename": "",
     "evalue": "",
     "output_type": "error",
     "traceback": [
      "\u001b[1;31mPython 3.8.5 ('pytorch') 需要安装 ipykernel。\n",
      "Run the following command to install 'ipykernel' into the Python environment. \n",
      "Command: 'conda install -n pytorch ipykernel --update-deps --force-reinstall'"
     ]
    }
   ],
   "source": [
    "for i in range(10,20,1):\n",
    "    model1=DecisionTreeRegressor(max_depth=i,min_samples_split=7,random_state=2)\n",
    "    model1.fit(X1_train,y1_train)\n",
    "    y1_train_predict=model1.predict(X1_train)\n",
    "    y1_test_predict=model1.predict(X1_test)\n",
    "    train_err=mean_squared_error(y1_train,y1_train_predict)\n",
    "    test_err=mean_squared_error(y1_test,y1_test_predict)\n",
    "\n",
    "    print(train_err,test_err)\n"
   ]
  },
  {
   "cell_type": "code",
   "execution_count": null,
   "metadata": {},
   "outputs": [
    {
     "ename": "",
     "evalue": "",
     "output_type": "error",
     "traceback": [
      "\u001b[1;31mPython 3.8.5 ('pytorch') 需要安装 ipykernel。\n",
      "Run the following command to install 'ipykernel' into the Python environment. \n",
      "Command: 'conda install -n pytorch ipykernel --update-deps --force-reinstall'"
     ]
    }
   ],
   "source": [
    "tree=DecisionTreeRegressor(max_depth=12,min_samples_split=7,random_state=2)\n",
    "tree.fit(X1_train,y1_train)\n",
    "plt.figure(1,figsize=())\n",
    "plot_tree(tree,filled=True)\n",
    "plt.show()\n"
   ]
  },
  {
   "cell_type": "code",
   "execution_count": null,
   "metadata": {},
   "outputs": [
    {
     "ename": "",
     "evalue": "",
     "output_type": "error",
     "traceback": [
      "\u001b[1;31mPython 3.8.5 ('pytorch') 需要安装 ipykernel。\n",
      "Run the following command to install 'ipykernel' into the Python environment. \n",
      "Command: 'conda install -n pytorch ipykernel --update-deps --force-reinstall'"
     ]
    }
   ],
   "source": [
    "\n",
    "for i in range(10,15,1):\n",
    "    model2=RandomForestRegressor(n_estimators=23,max_depth=i,min_samples_split=7,random_state=2,max_features=\"auto\")\n",
    "    model2.fit(X1_train,y1_train)\n",
    "    y1_train_predict=model2.predict(X1_train)\n",
    "    y1_test_predict=model2.predict(X1_test)\n",
    "    train_err=mean_squared_error(y1_train,y1_train_predict)\n",
    "    test_err=mean_squared_error(y1_test,y1_test_predict)\n",
    "\n",
    "    print(train_err,test_err)\n"
   ]
  },
  {
   "cell_type": "code",
   "execution_count": null,
   "metadata": {},
   "outputs": [
    {
     "ename": "",
     "evalue": "",
     "output_type": "error",
     "traceback": [
      "\u001b[1;31mPython 3.8.5 ('pytorch') 需要安装 ipykernel。\n",
      "Run the following command to install 'ipykernel' into the Python environment. \n",
      "Command: 'conda install -n pytorch ipykernel --update-deps --force-reinstall'"
     ]
    }
   ],
   "source": [
    "\n",
    "for i in range(22,35,1):\n",
    "    model2=RandomForestRegressor(n_estimators=i,max_depth=12,min_samples_split=7,random_state=2,max_features=5)\n",
    "    model2.fit(X1_train,y1_train)\n",
    "    y1_train_predict=model2.predict(X1_train)\n",
    "    y1_test_predict=model2.predict(X1_test)\n",
    "    train_err=mean_squared_error(y1_train,y1_train_predict)\n",
    "    test_err=mean_squared_error(y1_test,y1_test_predict)\n",
    "\n",
    "    print(train_err,test_err)\n"
   ]
  },
  {
   "cell_type": "code",
   "execution_count": null,
   "metadata": {},
   "outputs": [
    {
     "ename": "",
     "evalue": "",
     "output_type": "error",
     "traceback": [
      "\u001b[1;31mPython 3.8.5 ('pytorch') 需要安装 ipykernel。\n",
      "Run the following command to install 'ipykernel' into the Python environment. \n",
      "Command: 'conda install -n pytorch ipykernel --update-deps --force-reinstall'"
     ]
    }
   ],
   "source": [
    "for trees in range(10,110,10):\n",
    "    pre=[]\n",
    "    for _ in range(100):\n",
    "        X_train,X_test, y_train, y_test =train_test_split(X1_train,y1_train,test_size=0.5, random_state=2)\n",
    "\n",
    "        model3=RandomForestRegressor(n_estimators=trees,max_depth=12,min_samples_split=7,max_features=5)\n",
    "        model3.fit(X_train,y_train)\n",
    "        y_train_predict=model2.predict(X_train)\n",
    "        y1_test_predict=model2.predict(X1_test)\n",
    "        \n",
    "\n",
    "        print(train_err,test_err)"
   ]
  },
  {
   "cell_type": "code",
   "execution_count": null,
   "metadata": {},
   "outputs": [
    {
     "ename": "",
     "evalue": "",
     "output_type": "error",
     "traceback": [
      "\u001b[1;31mPython 3.8.5 ('pytorch') 需要安装 ipykernel。\n",
      "Run the following command to install 'ipykernel' into the Python environment. \n",
      "Command: 'conda install -n pytorch ipykernel --update-deps --force-reinstall'"
     ]
    }
   ],
   "source": [
    "10*32*32*150"
   ]
  }
 ],
 "metadata": {
  "interpreter": {
   "hash": "c6a29fb315aca188c105d957ceda34523f56386f1895c349532b451a93ebeef8"
  },
  "kernelspec": {
   "display_name": "Python 3.8.3 ('py38')",
   "language": "python",
   "name": "python3"
  },
  "language_info": {
   "codemirror_mode": {
    "name": "ipython",
    "version": 3
   },
   "file_extension": ".py",
   "mimetype": "text/x-python",
   "name": "python",
   "nbconvert_exporter": "python",
   "pygments_lexer": "ipython3",
   "version": "3.8.5"
  },
  "orig_nbformat": 4
 },
 "nbformat": 4,
 "nbformat_minor": 2
}

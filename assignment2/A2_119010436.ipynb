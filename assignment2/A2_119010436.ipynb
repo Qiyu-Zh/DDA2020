{
 "cells": [
  {
   "cell_type": "code",
   "execution_count": 151,
   "metadata": {},
   "outputs": [],
   "source": [
    "import re\n",
    "import numpy as np\n",
    "from sklearn.multiclass import OutputCodeClassifier\n",
    "from sklearn.metrics import accuracy_score\n",
    "from sklearn.svm import LinearSVC,SVC\n",
    "import matplotlib.pyplot as plt\n",
    "from sklearn import svm, datasets\n",
    "\n",
    "class SVM(object):\n",
    "\n",
    "    def __init__(self, training_dataset_, test_dataset_):\n",
    "        self.training_dataset = training_dataset_\n",
    "        self.test_dataset = test_dataset_\n",
    "        self.classes = {}\n",
    "        self.X_train = None\n",
    "        self.Y_train = None\n",
    "        self.X_test = None\n",
    "        self.Y_test = None\n",
    "\n",
    "        self.support_indecies = None\n",
    "        self.train_errors = None\n",
    "        self.val_errors = None\n",
    "        self.train_loss = None\n",
    "        self.val_loss = None\n",
    "        \n",
    "    def read_data(self):\n",
    "        f = open(self.training_dataset, 'r')\n",
    "        rows = list(re.split(' ', row) for row in re.split('\\n', f.read())[:-1])\n",
    "        names, self.Y_train = np.unique(list(row[-1] for row in rows), return_inverse=True)\n",
    "        self.X_train = np.empty((0,4), float)\n",
    "        f.close()\n",
    "        for row in rows:\n",
    "            self.X_train = np.append(self.X_train, np.array([np.array(row[:-1]).astype(float)]), axis = 0)\n",
    "        f = open(self.test_dataset, 'r')\n",
    "        f.close()\n",
    "        \n",
    "        f = open(self.test_dataset, 'r')\n",
    "        rows = list(re.split(' ', row) for row in re.split('\\n', f.read())[:-1])\n",
    "        names, self.Y_test = np.unique(list(row[-1] for row in rows), return_inverse=True)\n",
    "        self.X_test = np.empty((0,4), float)\n",
    "        f.close()\n",
    "        for row in rows:\n",
    "            self.X_test = np.append(self.X_test, np.array([np.array(row[:-1]).astype(float)]), axis = 0)\n",
    "\n",
    "\n",
    "    def SVM(self):\n",
    "    \n",
    "        #########################\n",
    "        model1=SVC(kernel='linear',decision_function_shape=\"ovo\",C=1e5) \n",
    "        y1_train=list(map(lambda x: 1 if x==0 else -1, self.Y_train))\n",
    "        y1_test=list(map(lambda x: 1 if x==0 else -1, self.Y_test))\n",
    "        model1.fit(self.X_train,y1_train)\n",
    "        test_error1=1-model1.score(self.X_test,y1_test)\n",
    "        train_error1=1-model1.score(self.X_train,y1_train)   \n",
    "        indexes1=model1.support_\n",
    "\n",
    "        model2=SVC(kernel='linear',decision_function_shape=\"ovo\",C=1e5) \n",
    "        y2_train=list(map(lambda x: 1 if x==1 else -1, self.Y_train))\n",
    "        y2_test=list(map(lambda x: 1 if x==1 else -1, self.Y_test))\n",
    "        model2.fit(self.X_train,y2_train)\n",
    "        test_error2=1-model2.score(self.X_test,y2_test)\n",
    "        train_error2=1-model2.score(self.X_train,y2_train)   \n",
    "        indexes2=model2.support_\n",
    "\n",
    "        model3=SVC(kernel='linear',decision_function_shape=\"ovo\",C=1e5) \n",
    "        y3_train=list(map(lambda x: 1 if x==2 else -1, self.Y_train))\n",
    "        y3_test=list(map(lambda x: 1 if x==2 else -1, self.Y_test))\n",
    "        model3.fit(self.X_train,y3_train)\n",
    "        test_error3=1-model3.score(self.X_test,y3_test)\n",
    "        train_error3=1-model3.score(self.X_train,y3_train)   \n",
    "        indexes3=model3.support_\n",
    "\n",
    "        proj_train=[model1.decision_function(self.X_train),model2.decision_function(self.X_train),model3.decision_function(self.X_train)]\n",
    "        proj_test=[model1.decision_function(self.X_test),model2.decision_function(self.X_test),model3.decision_function(self.X_test)]\n",
    "        \n",
    "        prediction_train = np.argmax(proj_train,axis=0)\n",
    "        prediction_test = np.argmax(proj_test,axis=0)\n",
    "        train_error=1-sum(prediction_train==self.Y_train)/len(self.Y_train)\n",
    "        test_error=1-sum(prediction_test==self.Y_test)/len(self.Y_test)\n",
    "\n",
    "        print([train_error1,train_error2,train_error3])\n",
    "        print([test_error1,test_error2,test_error3]) \n",
    "        print(train_error)\n",
    "        print(test_error)\n",
    "        print(','.join([str(i) for i in model1.coef_[0]]))\n",
    "        print(model1.intercept_[0])\n",
    "        print(','.join([str(i) for i in indexes1]))\n",
    "        print(','.join([str(i) for i in model2.coef_[0]]))\n",
    "        print(model2.intercept_[0])\n",
    "        print(','.join([str(i) for i in indexes2]))\n",
    "        print(','.join([str(i) for i in model3.coef_[0]]))\n",
    "        print(model3.intercept_[0])\n",
    "        print(','.join([str(i) for i in indexes3]))\n",
    "\n",
    "        return\n",
    "\n",
    "    \n",
    "    def SVM_slack(self,C):\n",
    "        model1=SVC(kernel='linear',decision_function_shape=\"ovo\",C=C) \n",
    "        y1_train=list(map(lambda x: 1 if x==0 else -1, self.Y_train))\n",
    "        y1_test=list(map(lambda x: 1 if x==0 else -1, self.Y_test))\n",
    "        model1.fit(self.X_train,y1_train)\n",
    "        test_error1=1-model1.score(self.X_test,y1_test)\n",
    "        train_error1=1-model1.score(self.X_train,y1_train)   \n",
    "        indexes1=model1.support_\n",
    "\n",
    "        model2=SVC(kernel='linear',decision_function_shape=\"ovo\",C=C) \n",
    "        y2_train=list(map(lambda x: 1 if x==1 else -1, self.Y_train))\n",
    "        y2_test=list(map(lambda x: 1 if x==1 else -1, self.Y_test))\n",
    "        model2.fit(self.X_train,y2_train)\n",
    "        test_error2=1-model2.score(self.X_test,y2_test)\n",
    "        train_error2=1-model2.score(self.X_train,y2_train)   \n",
    "        indexes2=model2.support_\n",
    "\n",
    "        model3=SVC(kernel='linear',decision_function_shape=\"ovo\",C=C) \n",
    "        y3_train=list(map(lambda x: 1 if x==2 else -1, self.Y_train))\n",
    "        y3_test=list(map(lambda x: 1 if x==2 else -1, self.Y_test))\n",
    "        model3.fit(self.X_train,y3_train)\n",
    "        test_error3=1-model3.score(self.X_test,y3_test)\n",
    "        train_error3=1-model3.score(self.X_train,y3_train)   \n",
    "        indexes3=model3.support_\n",
    "\n",
    "        proj_train=[model1.decision_function(self.X_train),model2.decision_function(self.X_train),model3.decision_function(self.X_train)]\n",
    "        proj_test=[model1.decision_function(self.X_test),model2.decision_function(self.X_test),model3.decision_function(self.X_test)]\n",
    "        \n",
    "        prediction_train = np.argmax(proj_train,axis=0)\n",
    "        prediction_test = np.argmax(proj_test,axis=0)\n",
    "        train_error=1-sum(prediction_train==self.Y_train)/len(self.Y_train)\n",
    "        test_error=1-sum(prediction_test==self.Y_test)/len(self.Y_test)\n",
    "\n",
    "        print([train_error1,train_error2,train_error3])\n",
    "        print([test_error1,test_error2,test_error3]) \n",
    "        print(train_error)\n",
    "        print(test_error)\n",
    "        print(','.join([str(i) for i in model1.coef_[0]]))\n",
    "        print(model1.intercept_[0])\n",
    "        print(','.join([str(i) for i in indexes1]))\n",
    "        print(','.join([str(i) for i in model2.coef_[0]]))\n",
    "        print(model2.intercept_[0])\n",
    "        print(','.join([str(i) for i in indexes2]))\n",
    "        print(','.join([str(i) for i in model3.coef_[0]]))\n",
    "        print(model3.intercept_[0])\n",
    "        print(','.join([str(i) for i in indexes3]))\n",
    "\n",
    "        return\n",
    "\n",
    "    def SVM_kernel_poly2(self,C):\n",
    "    \n",
    "        model1=SVC(kernel='poly',gamma=1,degree=2,decision_function_shape=\"ovo\",C=C) \n",
    "        y1_train=list(map(lambda x: 1 if x==0 else -1, self.Y_train))\n",
    "        y1_test=list(map(lambda x: 1 if x==0 else -1, self.Y_test))\n",
    "        model1.fit(self.X_train,y1_train)\n",
    "        test_error1=1-model1.score(self.X_test,y1_test)\n",
    "        train_error1=1-model1.score(self.X_train,y1_train)   \n",
    "        indexes1=model1.support_\n",
    "\n",
    "        model2=SVC(kernel='poly',gamma=1,degree=2,decision_function_shape=\"ovo\",C=C) \n",
    "        y2_train=list(map(lambda x: 1 if x==1 else -1, self.Y_train))\n",
    "        y2_test=list(map(lambda x: 1 if x==1 else -1, self.Y_test))\n",
    "        model2.fit(self.X_train,y2_train)\n",
    "        test_error2=1-model2.score(self.X_test,y2_test)\n",
    "        train_error2=1-model2.score(self.X_train,y2_train)   \n",
    "        indexes2=model2.support_\n",
    "\n",
    "        model3=SVC(kernel='poly',gamma=1,degree=2,decision_function_shape=\"ovo\",C=C) \n",
    "        y3_train=list(map(lambda x: 1 if x==2 else -1, self.Y_train))\n",
    "        y3_test=list(map(lambda x: 1 if x==2 else -1, self.Y_test))\n",
    "        model3.fit(self.X_train,y3_train)\n",
    "        test_error3=1-model3.score(self.X_test,y3_test)\n",
    "        train_error3=1-model3.score(self.X_train,y3_train)   \n",
    "        indexes3=model3.support_\n",
    "\n",
    "        proj_train=[model1.decision_function(self.X_train),model2.decision_function(self.X_train),model3.decision_function(self.X_train)]\n",
    "        proj_test=[model1.decision_function(self.X_test),model2.decision_function(self.X_test),model3.decision_function(self.X_test)]\n",
    "        \n",
    "        prediction_train = np.argmax(proj_train,axis=0)\n",
    "        prediction_test = np.argmax(proj_test,axis=0)\n",
    "        train_error=1-sum(prediction_train==self.Y_train)/len(self.Y_train)\n",
    "        test_error=1-sum(prediction_test==self.Y_test)/len(self.Y_test)\n",
    "\n",
    "        print([train_error1,train_error2,train_error3])\n",
    "        print([test_error1,test_error2,test_error3]) \n",
    "        print(train_error)\n",
    "        print(test_error)\n",
    "\n",
    "        print(model1.intercept_[0])\n",
    "        print(','.join([str(i) for i in indexes1]))\n",
    "  \n",
    "        print(model2.intercept_[0])\n",
    "        print(','.join([str(i) for i in indexes2]))\n",
    " \n",
    "        print(model3.intercept_[0])\n",
    "        print(','.join([str(i) for i in indexes3]))\n",
    "\n",
    "        return\n",
    "\n",
    "    def SVM_kernel_poly3(self,C):\n",
    "\n",
    "        model1=SVC(kernel='poly',gamma=1,degree=3,decision_function_shape=\"ovo\",C=C) \n",
    "        y1_train=list(map(lambda x: 1 if x==0 else -1, self.Y_train))\n",
    "        y1_test=list(map(lambda x: 1 if x==0 else -1, self.Y_test))\n",
    "        model1.fit(self.X_train,y1_train)\n",
    "        test_error1=1-model1.score(self.X_test,y1_test)\n",
    "        train_error1=1-model1.score(self.X_train,y1_train)   \n",
    "        indexes1=model1.support_\n",
    "\n",
    "        model2=SVC(kernel='poly',gamma=1,degree=3,decision_function_shape=\"ovo\",C=C) \n",
    "        y2_train=list(map(lambda x: 1 if x==1 else -1, self.Y_train))\n",
    "        y2_test=list(map(lambda x: 1 if x==1 else -1, self.Y_test))\n",
    "        model2.fit(self.X_train,y2_train)\n",
    "        test_error2=1-model2.score(self.X_test,y2_test)\n",
    "        train_error2=1-model2.score(self.X_train,y2_train)   \n",
    "        indexes2=model2.support_\n",
    "\n",
    "        model3=SVC(kernel='poly',gamma=1,degree=3,decision_function_shape=\"ovo\",C=C) \n",
    "        y3_train=list(map(lambda x: 1 if x==2 else -1, self.Y_train))\n",
    "        y3_test=list(map(lambda x: 1 if x==2 else -1, self.Y_test))\n",
    "        model3.fit(self.X_train,y3_train)\n",
    "        test_error3=1-model3.score(self.X_test,y3_test)\n",
    "        train_error3=1-model3.score(self.X_train,y3_train)   \n",
    "        indexes3=model3.support_\n",
    "\n",
    "        proj_train=[model1.decision_function(self.X_train),model2.decision_function(self.X_train),model3.decision_function(self.X_train)]\n",
    "        proj_test=[model1.decision_function(self.X_test),model2.decision_function(self.X_test),model3.decision_function(self.X_test)]\n",
    "        \n",
    "        prediction_train = np.argmax(proj_train,axis=0)\n",
    "        prediction_test = np.argmax(proj_test,axis=0)\n",
    "        train_error=1-sum(prediction_train==self.Y_train)/len(self.Y_train)\n",
    "        test_error=1-sum(prediction_test==self.Y_test)/len(self.Y_test)\n",
    "        \n",
    "        print([train_error1,train_error2,train_error3])\n",
    "        print([test_error1,test_error2,test_error3]) \n",
    "        print(train_error)\n",
    "        print(test_error)\n",
    "\n",
    "        print(model1.intercept_[0])\n",
    "        print(','.join([str(i) for i in indexes1]))\n",
    "\n",
    "        print(model2.intercept_[0])\n",
    "        print(','.join([str(i) for i in indexes2]))\n",
    "  \n",
    "        print(model3.intercept_[0])\n",
    "        print(','.join([str(i) for i in indexes3]))\n",
    "\n",
    "        return\n",
    "    \n",
    "    def SVM_kernel_rbf(self,C):\n",
    "        model1=SVC(decision_function_shape=\"ovo\",C=C,gamma=1/2) \n",
    "        y1_train=list(map(lambda x: 1 if x==0 else -1, self.Y_train))\n",
    "        y1_test=list(map(lambda x: 1 if x==0 else -1, self.Y_test))\n",
    "        model1.fit(self.X_train,y1_train)\n",
    "        test_error1=1-model1.score(self.X_test,y1_test)\n",
    "        train_error1=1-model1.score(self.X_train,y1_train)   \n",
    "        indexes1=model1.support_\n",
    "\n",
    "        model2=SVC(decision_function_shape=\"ovo\",C=C,gamma=1/2) \n",
    "        y2_train=list(map(lambda x: 1 if x==1 else -1, self.Y_train))\n",
    "        y2_test=list(map(lambda x: 1 if x==1 else -1, self.Y_test))\n",
    "        model2.fit(self.X_train,y2_train)\n",
    "        test_error2=1-model2.score(self.X_test,y2_test)\n",
    "        train_error2=1-model2.score(self.X_train,y2_train)   \n",
    "        indexes2=model2.support_\n",
    "\n",
    "        model3=SVC(decision_function_shape=\"ovo\",C=C,gamma=1/2) \n",
    "        y3_train=list(map(lambda x: 1 if x==2 else -1, self.Y_train))\n",
    "        y3_test=list(map(lambda x: 1 if x==2 else -1, self.Y_test))\n",
    "        model3.fit(self.X_train,y3_train)\n",
    "        test_error3=1-model3.score(self.X_test,y3_test)\n",
    "        train_error3=1-model3.score(self.X_train,y3_train)   \n",
    "        indexes3=model3.support_\n",
    "\n",
    "        proj_train=[model1.decision_function(self.X_train),model2.decision_function(self.X_train),model3.decision_function(self.X_train)]\n",
    "        proj_test=[model1.decision_function(self.X_test),model2.decision_function(self.X_test),model3.decision_function(self.X_test)]\n",
    "        \n",
    "        prediction_train = np.argmax(proj_train,axis=0)\n",
    "        prediction_test = np.argmax(proj_test,axis=0)\n",
    "        train_error=1-sum(prediction_train==self.Y_train)/len(self.Y_train)\n",
    "        test_error=1-sum(prediction_test==self.Y_test)/len(self.Y_test)\n",
    "\n",
    "        print([train_error1,train_error2,train_error3])\n",
    "        print([test_error1,test_error2,test_error3]) \n",
    "        print(train_error)\n",
    "        print(test_error)\n",
    " \n",
    "        print(model1.intercept_[0])\n",
    "        print(','.join([str(i) for i in indexes1]))\n",
    "\n",
    "        print(model2.intercept_[0])\n",
    "        print(','.join([str(i) for i in indexes2]))\n",
    "  \n",
    "        print(model3.intercept_[0])\n",
    "        print(','.join([str(i) for i in indexes3]))\n",
    "\n",
    "        return\n",
    " \n",
    "    def SVM_kernel_sigmoid(self,C):\n",
    "        model1=SVC(kernel='sigmoid',gamma='auto',decision_function_shape=\"ovo\",C=C) \n",
    "        y1_train=list(map(lambda x: 1 if x==0 else -1, self.Y_train))\n",
    "        y1_test=list(map(lambda x: 1 if x==0 else -1, self.Y_test))\n",
    "        model1.fit(self.X_train,y1_train)\n",
    "        test_error1=1-model1.score(self.X_test,y1_test)\n",
    "        train_error1=1-model1.score(self.X_train,y1_train)   \n",
    "        indexes1=model1.support_\n",
    "\n",
    "        model2=SVC(kernel='sigmoid',gamma='auto',decision_function_shape=\"ovo\",C=C) \n",
    "        y2_train=list(map(lambda x: 1 if x==1 else -1, self.Y_train))\n",
    "        y2_test=list(map(lambda x: 1 if x==1 else -1, self.Y_test))\n",
    "        model2.fit(self.X_train,y2_train)\n",
    "        test_error2=1-model2.score(self.X_test,y2_test)\n",
    "        train_error2=1-model2.score(self.X_train,y2_train)   \n",
    "        indexes2=model2.support_\n",
    "\n",
    "        model3=SVC(kernel='sigmoid',gamma='auto',decision_function_shape=\"ovo\",C=C) \n",
    "        y3_train=list(map(lambda x: 1 if x==2 else -1, self.Y_train))\n",
    "        y3_test=list(map(lambda x: 1 if x==2 else -1, self.Y_test))\n",
    "        model3.fit(self.X_train,y3_train)\n",
    "        test_error3=1-model3.score(self.X_test,y3_test)\n",
    "        train_error3=1-model3.score(self.X_train,y3_train)   \n",
    "        indexes3=model3.support_\n",
    "\n",
    "        proj_train=[model1.decision_function(self.X_train),model2.decision_function(self.X_train),model3.decision_function(self.X_train)]\n",
    "        proj_test=[model1.decision_function(self.X_test),model2.decision_function(self.X_test),model3.decision_function(self.X_test)]\n",
    "        \n",
    "        prediction_train = np.argmax(proj_train,axis=0)\n",
    "        prediction_test = np.argmax(proj_test,axis=0)\n",
    "        train_error=1-sum(prediction_train==self.Y_train)/len(self.Y_train)\n",
    "        test_error=1-sum(prediction_test==self.Y_test)/len(self.Y_test)\n",
    "\n",
    "        print([train_error1,train_error2,train_error3])\n",
    "        print([test_error1,test_error2,test_error3]) \n",
    "        print(train_error)\n",
    "        print(test_error)\n",
    "\n",
    "        print(model1.intercept_[0])\n",
    "        print(','.join([str(i) for i in indexes1]))\n",
    "\n",
    "        print(model2.intercept_[0])\n",
    "        print(','.join([str(i) for i in indexes2]))\n",
    " \n",
    "        print(model3.intercept_[0])\n",
    "        print(','.join([str(i) for i in indexes3]))\n",
    "\n",
    "        return"
   ]
  },
  {
   "cell_type": "code",
   "execution_count": 152,
   "id": "43276349",
   "metadata": {},
   "outputs": [
    {
     "name": "stdout",
     "output_type": "stream",
     "text": [
      "[0.0, 0.21666666666666667, 0.01666666666666672]\n",
      "[0.0, 0.3666666666666667, 0.0]\n",
      "0.04166666666666663\n",
      "0.0\n",
      "-0.045753522551278916,0.522167656562629,-1.0029405805248386,-0.46406881979483006\n",
      "1.4474641258143155\n",
      "78,13,31\n",
      "-0.7516096224830733,-3.418765068537624,2.0671436756028356,-4.6363468530863585\n",
      "11.313568528671174\n",
      "1,2,3,14,15,20,28,31,32,81,82,83,84,86,88,89,91,92,93,95,96,98,99,100,103,104,107,112,116,117,119,41,43,44,45,46,47,50,52,54,55,56,57,58,59,62,64,65,66,68,69,71,73,74,75,76,77,78,79\n",
      "-4.26389239099808,-6.193304117536172,8.641416229930172,12.562752667120442\n",
      "-19.190666624303244\n",
      "50,52,57,63,97,99,103,108\n",
      "None\n"
     ]
    }
   ],
   "source": [
    "svm = SVM(\"train.txt\", \"test.txt\")\n",
    "svm.read_data()\n",
    "\n",
    "print(svm.SVM())\n",
    "\n",
    "#####################################\n",
    "## Call different SVM with value C ##\n",
    "#####################################"
   ]
  },
  {
   "cell_type": "code",
   "execution_count": 153,
   "id": "6fdbcc2a",
   "metadata": {},
   "outputs": [
    {
     "name": "stdout",
     "output_type": "stream",
     "text": [
      "[0.0, 0.33333333333333337, 0.025000000000000022]\n",
      "[0.0, 0.33333333333333337, 0.033333333333333326]\n",
      "0.125\n",
      "0.23333333333333328\n",
      "-0.14732687221039667,0.3506142705998917,-0.7191508013197747,-0.3419994993214879\n",
      "1.894306660993957\n",
      "40,44,59,73,78,10,13,14,15,31,34\n",
      "-0.1553351677417052,-0.5861418407823122,0.18867405128687545,-0.26726424735054616\n",
      "1.433232937779845\n",
      "2,3,14,15,19,20,24,27,28,31,32,35,37,81,82,83,84,86,88,89,91,92,93,95,96,97,98,99,100,102,103,104,105,107,108,109,112,113,115,116,117,119,40,41,42,43,44,45,46,47,48,49,50,51,52,53,54,55,56,57,58,59,60,61,62,63,64,65,66,67,68,69,70,71,72,73,74,75,76,77,78,79\n",
      "0.09176465640249352,-0.08722690842768091,1.1055461831446354,0.8989915648301733\n",
      "-7.220857460580074\n",
      "41,43,45,46,48,50,52,53,54,55,56,57,58,63,64,65,66,67,70,71,77,80,81,83,84,86,89,91,93,96,97,103,104,107,108,109,111,112,115,116,117,119\n",
      "None\n"
     ]
    }
   ],
   "source": [
    "print(svm.SVM_slack(0.1))"
   ]
  },
  {
   "cell_type": "code",
   "execution_count": 154,
   "id": "296738c4",
   "metadata": {},
   "outputs": [
    {
     "name": "stdout",
     "output_type": "stream",
     "text": [
      "[0.0, 0.2666666666666667, 0.025000000000000022]\n",
      "[0.0, 0.33333333333333337, 0.033333333333333326]\n",
      "0.05833333333333335\n",
      "0.16666666666666663\n",
      "-0.1546770064735875,0.3923423881113789,-0.765430674731124,-0.3544896685410329\n",
      "1.8947324961436014\n",
      "59,73,78,13,14,31,34\n",
      "-0.31105228394445783,-1.171681139222776,0.37792789016532696,-0.5352117143330729\n",
      "3.865448365377384\n",
      "2,3,14,15,19,20,24,27,28,31,32,35,37,81,82,83,84,86,88,89,91,92,93,95,96,97,98,99,100,102,103,104,105,107,108,109,112,113,115,116,117,119,40,41,42,43,44,45,46,47,48,49,50,51,52,53,54,55,56,57,58,59,60,61,62,63,64,65,66,67,68,69,70,71,72,73,74,75,76,77,78,79\n",
      "-0.07164497321759969,-0.2399999999999985,1.3760315684645463,1.1621932976234721\n",
      "-7.457591188546857\n",
      "43,45,46,48,50,52,53,55,56,57,58,63,64,65,66,67,71,80,81,83,89,91,93,96,97,103,104,107,108,111,112,116,117,119\n",
      "None\n"
     ]
    }
   ],
   "source": [
    "print(svm.SVM_slack(0.2))"
   ]
  },
  {
   "cell_type": "code",
   "execution_count": 155,
   "id": "28461b37",
   "metadata": {},
   "outputs": [
    {
     "name": "stdout",
     "output_type": "stream",
     "text": [
      "[0.0, 0.25, 0.01666666666666672]\n",
      "[0.0, 0.33333333333333337, 0.033333333333333326]\n",
      "0.050000000000000044\n",
      "0.1333333333333333\n",
      "-0.08447998447476432,0.44581505498075286,-0.8401826951612853,-0.3955663678919348\n",
      "1.5653602744724049\n",
      "73,78,13,14,31\n",
      "-0.27866491540572547,-1.4100000000000001,0.48818540030646906,-0.7541801465236487\n",
      "4.261237512499903\n",
      "2,3,15,19,20,24,27,28,31,32,35,37,81,82,83,84,86,88,89,91,92,93,95,96,97,98,99,100,102,103,104,105,107,108,109,112,113,116,117,119,41,42,43,44,45,46,47,48,49,50,51,52,53,54,55,56,57,58,59,60,61,62,63,64,65,66,67,68,69,70,71,72,73,74,75,76,77,78,79\n",
      "-0.1286442821051341,-0.4223148882164675,1.5263467916532405,1.346810447700801\n",
      "-7.685069860412601\n",
      "43,46,48,50,52,53,56,57,58,63,64,65,66,67,71,80,81,83,89,91,93,96,97,103,104,108,111,112,116,117,119\n",
      "None\n"
     ]
    }
   ],
   "source": [
    "print(svm.SVM_slack(0.3))"
   ]
  },
  {
   "cell_type": "code",
   "execution_count": 156,
   "id": "8564aaaf",
   "metadata": {},
   "outputs": [
    {
     "name": "stdout",
     "output_type": "stream",
     "text": [
      "[0.0, 0.2583333333333333, 0.01666666666666672]\n",
      "[0.0, 0.33333333333333337, 0.033333333333333326]\n",
      "0.050000000000000044\n",
      "0.09999999999999998\n",
      "-0.06481913353224708,0.44431528690612704,-0.8470848724414213,-0.3895140134825879\n",
      "1.4875714813087575\n",
      "73,78,13,14,31\n",
      "-0.3901583402346179,-1.6680133740839802,0.6227096711455771,-0.9260459009147441\n",
      "5.445526630499139\n",
      "2,3,15,19,20,24,27,28,31,32,35,37,81,82,83,84,86,88,89,91,92,93,95,96,97,98,99,100,102,103,104,105,107,108,109,112,116,117,119,41,42,43,44,45,46,47,48,49,50,51,52,53,54,55,56,57,58,59,60,61,62,63,64,65,66,67,68,69,70,71,72,73,74,75,76,77,78,79\n",
      "-0.1808999379487211,-0.48747914902935296,1.7639730704284933,1.5621223817993293\n",
      "-8.694341631769353\n",
      "43,46,48,50,52,53,56,57,58,63,64,65,66,71,80,83,89,91,93,96,97,103,104,108,112,116,117,119\n"
     ]
    }
   ],
   "source": [
    "svm.SVM_slack(0.4)"
   ]
  },
  {
   "cell_type": "code",
   "execution_count": 157,
   "id": "d6478388",
   "metadata": {},
   "outputs": [
    {
     "name": "stdout",
     "output_type": "stream",
     "text": [
      "[0.0, 0.2583333333333333, 0.01666666666666672]\n",
      "[0.0, 0.3666666666666667, 0.033333333333333326]\n",
      "0.050000000000000044\n",
      "0.09999999999999998\n",
      "-0.04521495694126641,0.4433194724688094,-0.8544886309298712,-0.3837792357939376\n",
      "1.409954507241739\n",
      "73,78,13,14,31\n",
      "-0.4342316203471168,-1.863949555453392,0.7166970087740094,-1.0808754761483965\n",
      "6.174489466795424\n",
      "2,3,15,19,20,24,27,28,31,32,35,37,81,82,83,84,86,88,89,91,92,93,95,96,97,98,99,100,102,103,104,105,107,108,109,112,113,116,117,119,41,43,44,45,46,47,48,49,50,51,52,53,54,55,56,57,58,59,60,61,62,63,64,65,66,67,68,69,70,71,72,73,74,75,76,77,78,79\n",
      "-0.20245904811114723,-0.4380289067006542,1.816552192897146,1.6380342606040172\n",
      "-9.091808393538786\n",
      "43,46,48,50,52,56,57,58,63,64,65,66,71,80,89,91,93,96,97,103,104,108,112,116,117,119\n"
     ]
    }
   ],
   "source": [
    "svm.SVM_slack(0.5)\n"
   ]
  },
  {
   "cell_type": "code",
   "execution_count": 158,
   "id": "0e075b98",
   "metadata": {},
   "outputs": [
    {
     "name": "stdout",
     "output_type": "stream",
     "text": [
      "[0.0, 0.25, 0.025000000000000022]\n",
      "[0.0, 0.3666666666666667, 0.033333333333333326]\n",
      "0.050000000000000044\n",
      "0.09999999999999998\n",
      "-0.0374497904550918,0.4424496078657894,-0.8546983775519467,-0.38839745567123407\n",
      "1.3783761453535757\n",
      "73,78,13,31\n",
      "-0.4242998868907612,-1.850582387575187,0.7997560175449199,-1.269265081223897\n",
      "6.007630929636349\n",
      "2,3,15,19,20,24,27,28,31,32,35,37,81,82,83,84,86,88,89,91,92,93,95,96,97,98,99,100,102,103,104,105,107,108,112,113,116,117,119,41,43,44,45,46,47,48,49,50,51,52,53,54,55,56,57,58,59,60,61,62,63,64,65,66,67,68,69,70,71,72,73,74,75,76,77,78,79\n",
      "-0.30944071526118305,-0.4627232842100709,1.824338402078261,1.731968773865904\n",
      "-8.550719990237\n",
      "43,46,48,50,52,56,57,58,63,64,65,66,80,89,91,93,96,97,103,104,108,112,116,117,119\n"
     ]
    }
   ],
   "source": [
    "svm.SVM_slack(0.6)"
   ]
  },
  {
   "cell_type": "code",
   "execution_count": 159,
   "id": "eb6e1c0a",
   "metadata": {},
   "outputs": [
    {
     "name": "stdout",
     "output_type": "stream",
     "text": [
      "[0.0, 0.2583333333333333, 0.025000000000000022]\n",
      "[0.0, 0.3666666666666667, 0.033333333333333326]\n",
      "0.050000000000000044\n",
      "0.09999999999999998\n",
      "-0.043076966265098694,0.4882050562248348,-0.9387179775100658,-0.43435898875503304\n",
      "1.4216150851437779\n",
      "78,13,31\n",
      "-0.39293790939747575,-1.921817095729755,0.8462077239902971,-1.4741404170408028\n",
      "6.0671597566005815\n",
      "2,3,15,19,20,24,27,28,31,35,37,81,82,83,84,86,88,89,91,92,93,95,96,97,98,99,100,102,103,104,105,107,108,112,116,117,119,41,43,44,45,46,47,48,49,50,51,52,53,54,55,56,57,58,59,60,61,62,63,64,65,66,67,68,69,70,71,72,73,74,75,76,77,78,79\n",
      "-0.3465066270605667,-0.4029080814839954,1.9019249716636892,1.774613617726988\n",
      "-8.973700764212312\n",
      "43,46,48,50,52,56,57,58,63,64,66,80,89,91,93,96,97,103,104,108,112,116,119\n"
     ]
    }
   ],
   "source": [
    "svm.SVM_slack(0.7)"
   ]
  },
  {
   "cell_type": "code",
   "execution_count": 160,
   "id": "9d135e26",
   "metadata": {},
   "outputs": [
    {
     "name": "stdout",
     "output_type": "stream",
     "text": [
      "[0.0, 0.2583333333333333, 0.025000000000000022]\n",
      "[0.0, 0.3666666666666667, 0.033333333333333326]\n",
      "0.050000000000000044\n",
      "0.09999999999999998\n",
      "-0.045753522551278916,0.522167656562629,-1.0029405805248386,-0.46406881979483006\n",
      "1.4474641258143155\n",
      "78,13,31\n",
      "-0.3995690527834289,-1.9406245726037794,0.9065693886520357,-1.6239677271588762\n",
      "6.103322235318094\n",
      "2,3,15,19,20,24,27,28,31,35,37,81,82,83,84,86,88,89,91,92,93,95,96,97,98,99,100,102,103,104,105,107,108,112,116,117,119,41,43,44,45,46,47,48,49,50,51,52,53,54,55,56,57,58,59,60,61,62,63,64,65,66,67,68,69,70,71,72,74,75,76,77,78,79\n",
      "-0.37786207365236557,-0.39634004281390234,1.9235171898240286,1.975876820898165\n",
      "-9.202689208302566\n",
      "43,46,48,50,52,56,57,58,63,64,65,66,80,89,91,93,96,97,103,104,108,116,119\n"
     ]
    }
   ],
   "source": [
    "svm.SVM_slack(0.8)"
   ]
  },
  {
   "cell_type": "code",
   "execution_count": 161,
   "id": "4c946cec",
   "metadata": {},
   "outputs": [
    {
     "name": "stdout",
     "output_type": "stream",
     "text": [
      "[0.0, 0.2583333333333333, 0.025000000000000022]\n",
      "[0.0, 0.3666666666666667, 0.033333333333333326]\n",
      "0.050000000000000044\n",
      "0.06666666666666665\n",
      "-0.045753522551278916,0.522167656562629,-1.0029405805248386,-0.46406881979483006\n",
      "1.4474641258143155\n",
      "78,13,31\n",
      "-0.3824791918493014,-1.942089395461372,0.930320847627309,-1.7024928657316705\n",
      "6.011814997132194\n",
      "2,3,14,15,19,20,24,27,28,31,35,37,81,82,83,84,86,88,89,91,92,93,95,96,97,98,99,100,102,103,104,105,107,108,112,116,117,119,41,43,44,45,46,47,48,49,50,51,52,53,54,55,56,57,58,59,60,61,62,63,64,65,66,68,69,70,71,72,73,74,75,76,77,78,79\n",
      "-0.3691378295091124,-0.39060093550466324,1.9991064401959626,2.1548978613666043\n",
      "-9.944396599962609\n",
      "43,46,48,50,52,56,57,63,64,66,80,89,91,93,96,97,103,104,108,116,119\n"
     ]
    }
   ],
   "source": [
    "svm.SVM_slack(0.9)"
   ]
  },
  {
   "cell_type": "code",
   "execution_count": 162,
   "id": "c35115a5",
   "metadata": {},
   "outputs": [
    {
     "name": "stdout",
     "output_type": "stream",
     "text": [
      "[0.0, 0.25, 0.025000000000000022]\n",
      "[0.0, 0.3666666666666667, 0.033333333333333326]\n",
      "0.050000000000000044\n",
      "0.06666666666666665\n",
      "-0.045753522551278916,0.522167656562629,-1.0029405805248386,-0.46406881979483006\n",
      "1.4474641258143155\n",
      "78,13,31\n",
      "-0.4100581528484506,-1.930701643021405,0.986975119642385,-1.7754270468840245\n",
      "6.0121997781164005\n",
      "2,3,14,15,19,20,24,27,28,31,35,81,82,83,84,86,88,89,91,92,93,95,96,97,98,99,100,102,103,104,105,107,108,112,116,117,119,41,43,44,45,46,47,48,49,50,51,52,53,54,55,56,57,58,59,60,61,62,63,64,65,66,68,69,70,71,72,74,75,76,77,78,79\n",
      "-0.3422213037229751,-0.3396522303944849,2.0524134332939514,2.223404039744095\n",
      "-10.635753925178173\n",
      "43,46,48,50,52,56,57,63,64,66,80,89,91,93,96,97,103,104,108,116,119\n"
     ]
    }
   ],
   "source": [
    "svm.SVM_slack(1)"
   ]
  },
  {
   "cell_type": "code",
   "execution_count": 163,
   "id": "4d27bf0c",
   "metadata": {},
   "outputs": [
    {
     "name": "stdout",
     "output_type": "stream",
     "text": [
      "[0.0, 0.033333333333333326, 0.025000000000000022]\n",
      "[0.0, 0.0, 0.0]\n",
      "0.025000000000000022\n",
      "0.0\n",
      "1.2209413239487041\n",
      "78,13,31\n",
      "4.336670060758083\n",
      "14,31,89,93,96,97,99,103,108,48,50,52,57,58,63,64\n",
      "-10.428765225389037\n",
      "50,52,57,63,96,97,99,103,108\n"
     ]
    }
   ],
   "source": [
    "svm = SVM(\"train.txt\", \"test.txt\")\n",
    "svm.read_data()\n",
    "\n",
    "svm.SVM_kernel_poly2(1)"
   ]
  },
  {
   "cell_type": "code",
   "execution_count": 165,
   "id": "242556c9",
   "metadata": {},
   "outputs": [
    {
     "name": "stdout",
     "output_type": "stream",
     "text": [
      "[0.0, 0.008333333333333304, 0.008333333333333304]\n",
      "[0.0, 0.0, 0.033333333333333326]\n",
      "0.008333333333333304\n",
      "0.0\n",
      "1.1343496320085704\n",
      "78,13,31\n",
      "1.5442645841243994\n",
      "31,89,97,99,101,103,108,119,50,52,57,63,70\n",
      "-6.117889217456769\n",
      "50,52,57,63,89,103,108,119\n"
     ]
    }
   ],
   "source": [
    "svm = SVM(\"train.txt\", \"test.txt\")\n",
    "svm.read_data()\n",
    "\n",
    "svm.SVM_kernel_poly3(1)"
   ]
  },
  {
   "cell_type": "code",
   "execution_count": 167,
   "id": "c806ed3c",
   "metadata": {},
   "outputs": [
    {
     "name": "stdout",
     "output_type": "stream",
     "text": [
      "[0.0, 0.033333333333333326, 0.025000000000000022]\n",
      "[0.0, 0.033333333333333326, 0.033333333333333326]\n",
      "0.033333333333333326\n",
      "0.033333333333333326\n",
      "-0.3359263756264405\n",
      "42,45,78,84,87,88,89,101,104,106,4,5,12,14,31\n",
      "-0.41536231627396114\n",
      "4,5,13,14,31,80,88,89,91,93,96,97,99,101,103,108,116,119,40,43,46,48,50,52,56,57,58,63,64,65,66,78\n",
      "-0.30449078596155776\n",
      "3,4,5,12,14,31,40,43,46,48,50,52,56,57,58,63,64,65,66,80,87,88,89,91,93,96,97,99,101,103,104,108,111,116,119\n"
     ]
    }
   ],
   "source": [
    "svm = SVM(\"train.txt\", \"test.txt\")\n",
    "svm.read_data()\n",
    "\n",
    "svm.SVM_kernel_rbf(1)"
   ]
  },
  {
   "cell_type": "code",
   "execution_count": 168,
   "id": "adfcaeef",
   "metadata": {},
   "outputs": [
    {
     "name": "stdout",
     "output_type": "stream",
     "text": [
      "[0.33333333333333337, 0.33333333333333337, 0.33333333333333337]\n",
      "[0.33333333333333337, 0.33333333333333337, 0.33333333333333337]\n",
      "0.825\n",
      "0.7666666666666666\n",
      "-1.0\n",
      "80,81,82,83,84,85,86,87,88,89,90,91,92,93,94,95,96,97,98,99,100,101,102,103,104,105,106,107,108,109,110,111,112,113,114,115,116,117,118,119,0,1,2,3,4,5,6,7,8,9,10,11,12,13,14,15,16,17,18,19,20,21,22,23,24,25,26,27,28,29,30,31,32,33,34,35,36,37,38,39\n",
      "-1.0\n",
      "80,81,82,83,84,85,86,87,88,89,90,91,92,93,94,95,96,97,98,99,100,101,102,103,104,105,106,107,108,109,110,111,112,113,114,115,116,117,118,119,40,41,42,43,44,45,46,47,48,49,50,51,52,53,54,55,56,57,58,59,60,61,62,63,64,65,66,67,68,69,70,71,72,73,74,75,76,77,78,79\n",
      "-1.0000000298023224\n",
      "0,1,2,3,7,9,10,11,12,13,14,15,16,17,18,19,20,21,24,25,26,27,28,29,30,31,32,33,34,35,36,37,38,39,40,60,61,73,78,79,80,81,82,83,84,85,86,87,88,89,90,91,92,93,94,95,96,97,98,99,100,101,102,103,104,105,106,107,108,109,110,111,112,113,114,115,116,117,118,119\n"
     ]
    }
   ],
   "source": [
    "svm = SVM(\"train.txt\", \"test.txt\")\n",
    "svm.read_data()\n",
    "\n",
    "svm.SVM_kernel_sigmoid(1)"
   ]
  }
 ],
 "metadata": {
  "kernelspec": {
   "display_name": "Python 3",
   "language": "python",
   "name": "python3"
  },
  "language_info": {
   "codemirror_mode": {
    "name": "ipython",
    "version": 3
   },
   "file_extension": ".py",
   "mimetype": "text/x-python",
   "name": "python",
   "nbconvert_exporter": "python",
   "pygments_lexer": "ipython3",
   "version": "3.8.5"
  }
 },
 "nbformat": 4,
 "nbformat_minor": 5
}
